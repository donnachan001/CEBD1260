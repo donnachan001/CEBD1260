{
 "cells": [
  {
   "cell_type": "markdown",
   "metadata": {},
   "source": [
    ".pandas is a software library written for the Python programming language for data manipulation and analysis.\n",
    ".NumPymis a library for the Python programming language, adding support for large, multi-dimensional arrays and matrices, along with a large collection of high-level mathematical functions to operate on these arrays.\n",
    ".Matplotlib is a plotting library for Python. It is used along with NumPy to provide an environment that is an effective open source alternative for MatLab.\n",
    ".matplotlib.pyplot is a collection of command style functions that make matplotlib work like MATLAB.\n",
    ".Seaborn is a Python visualization library based on matplotlib. It provides a high-level interface for drawing attractive statistical graphics."
   ]
  },
  {
   "cell_type": "code",
   "execution_count": 158,
   "metadata": {},
   "outputs": [],
   "source": [
    "import pandas as pd\n",
    "import numpy  as np\n",
    "import matplotlib as mpl\n",
    "import matplotlib.pyplot as plt\n",
    "import seaborn as sns\n",
    "mpl.style.use('seaborn')"
   ]
  },
  {
   "cell_type": "markdown",
   "metadata": {},
   "source": [
    "preparing data"
   ]
  },
  {
   "cell_type": "code",
   "execution_count": 159,
   "metadata": {},
   "outputs": [
    {
     "data": {
      "text/html": [
       "<div>\n",
       "<style scoped>\n",
       "    .dataframe tbody tr th:only-of-type {\n",
       "        vertical-align: middle;\n",
       "    }\n",
       "\n",
       "    .dataframe tbody tr th {\n",
       "        vertical-align: top;\n",
       "    }\n",
       "\n",
       "    .dataframe thead th {\n",
       "        text-align: right;\n",
       "    }\n",
       "</style>\n",
       "<table border=\"1\" class=\"dataframe\">\n",
       "  <thead>\n",
       "    <tr style=\"text-align: right;\">\n",
       "      <th></th>\n",
       "      <th>datetime</th>\n",
       "      <th>Vancouver</th>\n",
       "      <th>Portland</th>\n",
       "      <th>San Francisco</th>\n",
       "      <th>Seattle</th>\n",
       "      <th>Los Angeles</th>\n",
       "      <th>San Diego</th>\n",
       "      <th>Las Vegas</th>\n",
       "      <th>Phoenix</th>\n",
       "      <th>Albuquerque</th>\n",
       "      <th>...</th>\n",
       "      <th>Philadelphia</th>\n",
       "      <th>New York</th>\n",
       "      <th>Montreal</th>\n",
       "      <th>Boston</th>\n",
       "      <th>Beersheba</th>\n",
       "      <th>Tel Aviv District</th>\n",
       "      <th>Eilat</th>\n",
       "      <th>Haifa</th>\n",
       "      <th>Nahariyya</th>\n",
       "      <th>Jerusalem</th>\n",
       "    </tr>\n",
       "  </thead>\n",
       "  <tbody>\n",
       "    <tr>\n",
       "      <th>3278</th>\n",
       "      <td>2013-02-15 02:00:00</td>\n",
       "      <td>278.88</td>\n",
       "      <td>281.950</td>\n",
       "      <td>285.120</td>\n",
       "      <td>280.590</td>\n",
       "      <td>286.910</td>\n",
       "      <td>285.490</td>\n",
       "      <td>286.840</td>\n",
       "      <td>286.070</td>\n",
       "      <td>274.300</td>\n",
       "      <td>...</td>\n",
       "      <td>273.680</td>\n",
       "      <td>275.820</td>\n",
       "      <td>272.03</td>\n",
       "      <td>272.470</td>\n",
       "      <td>290.930</td>\n",
       "      <td>285.960</td>\n",
       "      <td>286.7495</td>\n",
       "      <td>288.740</td>\n",
       "      <td>288.740</td>\n",
       "      <td>285.96</td>\n",
       "    </tr>\n",
       "    <tr>\n",
       "      <th>26547</th>\n",
       "      <td>2015-10-12 15:00:00</td>\n",
       "      <td>284.55</td>\n",
       "      <td>283.450</td>\n",
       "      <td>287.350</td>\n",
       "      <td>283.820</td>\n",
       "      <td>296.750</td>\n",
       "      <td>296.660</td>\n",
       "      <td>294.980</td>\n",
       "      <td>297.750</td>\n",
       "      <td>290.750</td>\n",
       "      <td>...</td>\n",
       "      <td>292.140</td>\n",
       "      <td>290.760</td>\n",
       "      <td>290.89</td>\n",
       "      <td>292.840</td>\n",
       "      <td>300.993</td>\n",
       "      <td>303.870</td>\n",
       "      <td>307.1300</td>\n",
       "      <td>306.210</td>\n",
       "      <td>304.150</td>\n",
       "      <td>303.62</td>\n",
       "    </tr>\n",
       "    <tr>\n",
       "      <th>44288</th>\n",
       "      <td>2017-10-20 20:00:00</td>\n",
       "      <td>284.36</td>\n",
       "      <td>284.020</td>\n",
       "      <td>289.240</td>\n",
       "      <td>283.050</td>\n",
       "      <td>294.910</td>\n",
       "      <td>293.540</td>\n",
       "      <td>297.780</td>\n",
       "      <td>301.710</td>\n",
       "      <td>295.660</td>\n",
       "      <td>...</td>\n",
       "      <td>296.060</td>\n",
       "      <td>296.300</td>\n",
       "      <td>290.50</td>\n",
       "      <td>294.000</td>\n",
       "      <td>288.042</td>\n",
       "      <td>297.260</td>\n",
       "      <td>300.1500</td>\n",
       "      <td>299.017</td>\n",
       "      <td>299.017</td>\n",
       "      <td>297.37</td>\n",
       "    </tr>\n",
       "    <tr>\n",
       "      <th>25117</th>\n",
       "      <td>2015-08-14 01:00:00</td>\n",
       "      <td>298.94</td>\n",
       "      <td>301.990</td>\n",
       "      <td>298.140</td>\n",
       "      <td>300.260</td>\n",
       "      <td>305.730</td>\n",
       "      <td>300.730</td>\n",
       "      <td>302.610</td>\n",
       "      <td>316.050</td>\n",
       "      <td>303.600</td>\n",
       "      <td>...</td>\n",
       "      <td>293.110</td>\n",
       "      <td>295.390</td>\n",
       "      <td>293.37</td>\n",
       "      <td>293.450</td>\n",
       "      <td>291.485</td>\n",
       "      <td>298.580</td>\n",
       "      <td>304.1500</td>\n",
       "      <td>304.820</td>\n",
       "      <td>300.535</td>\n",
       "      <td>298.73</td>\n",
       "    </tr>\n",
       "    <tr>\n",
       "      <th>35332</th>\n",
       "      <td>2016-10-12 16:00:00</td>\n",
       "      <td>281.63</td>\n",
       "      <td>275.338</td>\n",
       "      <td>284.888</td>\n",
       "      <td>275.488</td>\n",
       "      <td>281.588</td>\n",
       "      <td>286.688</td>\n",
       "      <td>283.288</td>\n",
       "      <td>290.388</td>\n",
       "      <td>283.388</td>\n",
       "      <td>...</td>\n",
       "      <td>290.138</td>\n",
       "      <td>290.488</td>\n",
       "      <td>290.63</td>\n",
       "      <td>288.338</td>\n",
       "      <td>300.988</td>\n",
       "      <td>300.188</td>\n",
       "      <td>301.8880</td>\n",
       "      <td>299.888</td>\n",
       "      <td>299.888</td>\n",
       "      <td>292.78</td>\n",
       "    </tr>\n",
       "  </tbody>\n",
       "</table>\n",
       "<p>5 rows × 37 columns</p>\n",
       "</div>"
      ],
      "text/plain": [
       "                 datetime  Vancouver  Portland  San Francisco  Seattle  \\\n",
       "3278  2013-02-15 02:00:00     278.88   281.950        285.120  280.590   \n",
       "26547 2015-10-12 15:00:00     284.55   283.450        287.350  283.820   \n",
       "44288 2017-10-20 20:00:00     284.36   284.020        289.240  283.050   \n",
       "25117 2015-08-14 01:00:00     298.94   301.990        298.140  300.260   \n",
       "35332 2016-10-12 16:00:00     281.63   275.338        284.888  275.488   \n",
       "\n",
       "       Los Angeles  San Diego  Las Vegas  Phoenix  Albuquerque    ...      \\\n",
       "3278       286.910    285.490    286.840  286.070      274.300    ...       \n",
       "26547      296.750    296.660    294.980  297.750      290.750    ...       \n",
       "44288      294.910    293.540    297.780  301.710      295.660    ...       \n",
       "25117      305.730    300.730    302.610  316.050      303.600    ...       \n",
       "35332      281.588    286.688    283.288  290.388      283.388    ...       \n",
       "\n",
       "       Philadelphia  New York  Montreal   Boston  Beersheba  \\\n",
       "3278        273.680   275.820    272.03  272.470    290.930   \n",
       "26547       292.140   290.760    290.89  292.840    300.993   \n",
       "44288       296.060   296.300    290.50  294.000    288.042   \n",
       "25117       293.110   295.390    293.37  293.450    291.485   \n",
       "35332       290.138   290.488    290.63  288.338    300.988   \n",
       "\n",
       "       Tel Aviv District     Eilat    Haifa  Nahariyya  Jerusalem  \n",
       "3278             285.960  286.7495  288.740    288.740     285.96  \n",
       "26547            303.870  307.1300  306.210    304.150     303.62  \n",
       "44288            297.260  300.1500  299.017    299.017     297.37  \n",
       "25117            298.580  304.1500  304.820    300.535     298.73  \n",
       "35332            300.188  301.8880  299.888    299.888     292.78  \n",
       "\n",
       "[5 rows x 37 columns]"
      ]
     },
     "execution_count": 159,
     "metadata": {},
     "output_type": "execute_result"
    }
   ],
   "source": [
    "city_temp=pd.read_csv(\"../data/raw/temperature.csv\", parse_dates=['datetime'])\n",
    "city_humid=pd.read_csv(\"../data/raw/humidity.csv\",parse_dates=['datetime'])\n",
    "city_press=pd.read_csv(\"../data/raw/pressure.csv\",parse_dates=['datetime'])\n",
    "city_speed=pd.read_csv(\"../data/raw/wind_speed.csv\",parse_dates=['datetime'])\n",
    "city_dir=pd.read_csv(\"../data/raw/wind_direction.csv\",parse_dates=['datetime'])\n",
    "city_temp.sample(5)"
   ]
  },
  {
   "cell_type": "markdown",
   "metadata": {},
   "source": [
    "For each city we have timeseries in a column. We are going to chose New York as our chosen city and temperature as our chosen feature. It is better to convert the temperature to Celsius."
   ]
  },
  {
   "cell_type": "code",
   "execution_count": 160,
   "metadata": {},
   "outputs": [],
   "source": [
    "data=city_temp[['datetime','New York']]\n",
    "data=data.rename(columns={'New York':'temperature'})\n",
    "data.head(5)\n",
    "data['hour'] = data.datetime.dt.hour\n",
    "sample = data[:168]"
   ]
  },
  {
   "cell_type": "code",
   "execution_count": 162,
   "metadata": {},
   "outputs": [],
   "source": [
    "data_humid=city_humid[['datetime','New York']]\n",
    "data_humid=data_humid.rename(columns={'New York':'humidity'})\n"
   ]
  },
  {
   "cell_type": "code",
   "execution_count": 163,
   "metadata": {},
   "outputs": [
    {
     "data": {
      "text/html": [
       "<div>\n",
       "<style scoped>\n",
       "    .dataframe tbody tr th:only-of-type {\n",
       "        vertical-align: middle;\n",
       "    }\n",
       "\n",
       "    .dataframe tbody tr th {\n",
       "        vertical-align: top;\n",
       "    }\n",
       "\n",
       "    .dataframe thead th {\n",
       "        text-align: right;\n",
       "    }\n",
       "</style>\n",
       "<table border=\"1\" class=\"dataframe\">\n",
       "  <thead>\n",
       "    <tr style=\"text-align: right;\">\n",
       "      <th></th>\n",
       "      <th>datetime</th>\n",
       "      <th>Vancouver</th>\n",
       "      <th>Portland</th>\n",
       "      <th>San Francisco</th>\n",
       "      <th>Seattle</th>\n",
       "      <th>Los Angeles</th>\n",
       "      <th>San Diego</th>\n",
       "      <th>Las Vegas</th>\n",
       "      <th>Phoenix</th>\n",
       "      <th>Albuquerque</th>\n",
       "      <th>...</th>\n",
       "      <th>Philadelphia</th>\n",
       "      <th>New York</th>\n",
       "      <th>Montreal</th>\n",
       "      <th>Boston</th>\n",
       "      <th>Beersheba</th>\n",
       "      <th>Tel Aviv District</th>\n",
       "      <th>Eilat</th>\n",
       "      <th>Haifa</th>\n",
       "      <th>Nahariyya</th>\n",
       "      <th>Jerusalem</th>\n",
       "    </tr>\n",
       "  </thead>\n",
       "  <tbody>\n",
       "    <tr>\n",
       "      <th>41319</th>\n",
       "      <td>2017-06-19 03:00:00</td>\n",
       "      <td>1021.0</td>\n",
       "      <td>1017.0</td>\n",
       "      <td>1011.0</td>\n",
       "      <td>1020.0</td>\n",
       "      <td>1008.0</td>\n",
       "      <td>1009.0</td>\n",
       "      <td>1007.0</td>\n",
       "      <td>1003.0</td>\n",
       "      <td>1017.0</td>\n",
       "      <td>...</td>\n",
       "      <td>1011.0</td>\n",
       "      <td>1010.0</td>\n",
       "      <td>1003.0</td>\n",
       "      <td>1011.0</td>\n",
       "      <td>981.0</td>\n",
       "      <td>1008.0</td>\n",
       "      <td>1008.0</td>\n",
       "      <td>1019.0</td>\n",
       "      <td>1019.0</td>\n",
       "      <td>1008.0</td>\n",
       "    </tr>\n",
       "    <tr>\n",
       "      <th>2065</th>\n",
       "      <td>2012-12-26 13:00:00</td>\n",
       "      <td>1012.0</td>\n",
       "      <td>1013.0</td>\n",
       "      <td>1018.0</td>\n",
       "      <td>1011.0</td>\n",
       "      <td>1019.0</td>\n",
       "      <td>1019.0</td>\n",
       "      <td>1022.0</td>\n",
       "      <td>1018.0</td>\n",
       "      <td>1013.0</td>\n",
       "      <td>...</td>\n",
       "      <td>1018.0</td>\n",
       "      <td>1016.0</td>\n",
       "      <td>1022.0</td>\n",
       "      <td>1016.0</td>\n",
       "      <td>989.0</td>\n",
       "      <td>1018.0</td>\n",
       "      <td>1018.0</td>\n",
       "      <td>1013.0</td>\n",
       "      <td>1013.0</td>\n",
       "      <td>994.0</td>\n",
       "    </tr>\n",
       "    <tr>\n",
       "      <th>2921</th>\n",
       "      <td>2013-01-31 05:00:00</td>\n",
       "      <td>NaN</td>\n",
       "      <td>1032.0</td>\n",
       "      <td>1026.0</td>\n",
       "      <td>1027.0</td>\n",
       "      <td>1023.0</td>\n",
       "      <td>1023.0</td>\n",
       "      <td>1022.0</td>\n",
       "      <td>1021.0</td>\n",
       "      <td>815.0</td>\n",
       "      <td>...</td>\n",
       "      <td>1018.0</td>\n",
       "      <td>1019.0</td>\n",
       "      <td>NaN</td>\n",
       "      <td>1021.0</td>\n",
       "      <td>967.0</td>\n",
       "      <td>1016.0</td>\n",
       "      <td>1019.0</td>\n",
       "      <td>1016.0</td>\n",
       "      <td>1016.0</td>\n",
       "      <td>990.0</td>\n",
       "    </tr>\n",
       "    <tr>\n",
       "      <th>6265</th>\n",
       "      <td>2013-06-19 13:00:00</td>\n",
       "      <td>1014.0</td>\n",
       "      <td>1016.0</td>\n",
       "      <td>1017.0</td>\n",
       "      <td>1014.0</td>\n",
       "      <td>1012.0</td>\n",
       "      <td>1012.0</td>\n",
       "      <td>1008.0</td>\n",
       "      <td>1009.0</td>\n",
       "      <td>1022.0</td>\n",
       "      <td>...</td>\n",
       "      <td>1012.0</td>\n",
       "      <td>1012.0</td>\n",
       "      <td>1013.0</td>\n",
       "      <td>1012.0</td>\n",
       "      <td>983.0</td>\n",
       "      <td>1004.0</td>\n",
       "      <td>1002.0</td>\n",
       "      <td>1013.0</td>\n",
       "      <td>1013.0</td>\n",
       "      <td>985.0</td>\n",
       "    </tr>\n",
       "    <tr>\n",
       "      <th>21359</th>\n",
       "      <td>2015-03-10 11:00:00</td>\n",
       "      <td>1029.0</td>\n",
       "      <td>1027.0</td>\n",
       "      <td>1026.0</td>\n",
       "      <td>1029.0</td>\n",
       "      <td>1026.0</td>\n",
       "      <td>1026.0</td>\n",
       "      <td>1029.0</td>\n",
       "      <td>1025.0</td>\n",
       "      <td>1031.0</td>\n",
       "      <td>...</td>\n",
       "      <td>1038.0</td>\n",
       "      <td>1039.0</td>\n",
       "      <td>1035.0</td>\n",
       "      <td>1039.0</td>\n",
       "      <td>1033.0</td>\n",
       "      <td>1033.0</td>\n",
       "      <td>1031.0</td>\n",
       "      <td>1033.0</td>\n",
       "      <td>1033.0</td>\n",
       "      <td>1032.0</td>\n",
       "    </tr>\n",
       "  </tbody>\n",
       "</table>\n",
       "<p>5 rows × 37 columns</p>\n",
       "</div>"
      ],
      "text/plain": [
       "                 datetime  Vancouver  Portland  San Francisco  Seattle  \\\n",
       "41319 2017-06-19 03:00:00     1021.0    1017.0         1011.0   1020.0   \n",
       "2065  2012-12-26 13:00:00     1012.0    1013.0         1018.0   1011.0   \n",
       "2921  2013-01-31 05:00:00        NaN    1032.0         1026.0   1027.0   \n",
       "6265  2013-06-19 13:00:00     1014.0    1016.0         1017.0   1014.0   \n",
       "21359 2015-03-10 11:00:00     1029.0    1027.0         1026.0   1029.0   \n",
       "\n",
       "       Los Angeles  San Diego  Las Vegas  Phoenix  Albuquerque    ...      \\\n",
       "41319       1008.0     1009.0     1007.0   1003.0       1017.0    ...       \n",
       "2065        1019.0     1019.0     1022.0   1018.0       1013.0    ...       \n",
       "2921        1023.0     1023.0     1022.0   1021.0        815.0    ...       \n",
       "6265        1012.0     1012.0     1008.0   1009.0       1022.0    ...       \n",
       "21359       1026.0     1026.0     1029.0   1025.0       1031.0    ...       \n",
       "\n",
       "       Philadelphia  New York  Montreal  Boston  Beersheba  Tel Aviv District  \\\n",
       "41319        1011.0    1010.0    1003.0  1011.0      981.0             1008.0   \n",
       "2065         1018.0    1016.0    1022.0  1016.0      989.0             1018.0   \n",
       "2921         1018.0    1019.0       NaN  1021.0      967.0             1016.0   \n",
       "6265         1012.0    1012.0    1013.0  1012.0      983.0             1004.0   \n",
       "21359        1038.0    1039.0    1035.0  1039.0     1033.0             1033.0   \n",
       "\n",
       "        Eilat   Haifa  Nahariyya  Jerusalem  \n",
       "41319  1008.0  1019.0     1019.0     1008.0  \n",
       "2065   1018.0  1013.0     1013.0      994.0  \n",
       "2921   1019.0  1016.0     1016.0      990.0  \n",
       "6265   1002.0  1013.0     1013.0      985.0  \n",
       "21359  1031.0  1033.0     1033.0     1032.0  \n",
       "\n",
       "[5 rows x 37 columns]"
      ]
     },
     "execution_count": 163,
     "metadata": {},
     "output_type": "execute_result"
    }
   ],
   "source": [
    "city_press.sample(5)"
   ]
  },
  {
   "cell_type": "code",
   "execution_count": 164,
   "metadata": {},
   "outputs": [
    {
     "data": {
      "text/html": [
       "<div>\n",
       "<style scoped>\n",
       "    .dataframe tbody tr th:only-of-type {\n",
       "        vertical-align: middle;\n",
       "    }\n",
       "\n",
       "    .dataframe tbody tr th {\n",
       "        vertical-align: top;\n",
       "    }\n",
       "\n",
       "    .dataframe thead th {\n",
       "        text-align: right;\n",
       "    }\n",
       "</style>\n",
       "<table border=\"1\" class=\"dataframe\">\n",
       "  <thead>\n",
       "    <tr style=\"text-align: right;\">\n",
       "      <th></th>\n",
       "      <th>datetime</th>\n",
       "      <th>pressure</th>\n",
       "    </tr>\n",
       "  </thead>\n",
       "  <tbody>\n",
       "    <tr>\n",
       "      <th>0</th>\n",
       "      <td>2012-10-01 12:00:00</td>\n",
       "      <td>NaN</td>\n",
       "    </tr>\n",
       "    <tr>\n",
       "      <th>1</th>\n",
       "      <td>2012-10-01 13:00:00</td>\n",
       "      <td>1012.0</td>\n",
       "    </tr>\n",
       "    <tr>\n",
       "      <th>2</th>\n",
       "      <td>2012-10-01 14:00:00</td>\n",
       "      <td>1012.0</td>\n",
       "    </tr>\n",
       "    <tr>\n",
       "      <th>3</th>\n",
       "      <td>2012-10-01 15:00:00</td>\n",
       "      <td>1012.0</td>\n",
       "    </tr>\n",
       "    <tr>\n",
       "      <th>4</th>\n",
       "      <td>2012-10-01 16:00:00</td>\n",
       "      <td>1012.0</td>\n",
       "    </tr>\n",
       "  </tbody>\n",
       "</table>\n",
       "</div>"
      ],
      "text/plain": [
       "             datetime  pressure\n",
       "0 2012-10-01 12:00:00       NaN\n",
       "1 2012-10-01 13:00:00    1012.0\n",
       "2 2012-10-01 14:00:00    1012.0\n",
       "3 2012-10-01 15:00:00    1012.0\n",
       "4 2012-10-01 16:00:00    1012.0"
      ]
     },
     "execution_count": 164,
     "metadata": {},
     "output_type": "execute_result"
    }
   ],
   "source": [
    "data_press=city_press[['datetime','New York']]\n",
    "data_press=data_press.rename(columns={'New York':'pressure'})\n",
    "data_press.head(5)"
   ]
  },
  {
   "cell_type": "code",
   "execution_count": 165,
   "metadata": {},
   "outputs": [
    {
     "data": {
      "text/html": [
       "<div>\n",
       "<style scoped>\n",
       "    .dataframe tbody tr th:only-of-type {\n",
       "        vertical-align: middle;\n",
       "    }\n",
       "\n",
       "    .dataframe tbody tr th {\n",
       "        vertical-align: top;\n",
       "    }\n",
       "\n",
       "    .dataframe thead th {\n",
       "        text-align: right;\n",
       "    }\n",
       "</style>\n",
       "<table border=\"1\" class=\"dataframe\">\n",
       "  <thead>\n",
       "    <tr style=\"text-align: right;\">\n",
       "      <th></th>\n",
       "      <th>datetime</th>\n",
       "      <th>wind_speed</th>\n",
       "    </tr>\n",
       "  </thead>\n",
       "  <tbody>\n",
       "    <tr>\n",
       "      <th>0</th>\n",
       "      <td>2012-10-01 12:00:00</td>\n",
       "      <td>NaN</td>\n",
       "    </tr>\n",
       "    <tr>\n",
       "      <th>1</th>\n",
       "      <td>2012-10-01 13:00:00</td>\n",
       "      <td>7.0</td>\n",
       "    </tr>\n",
       "    <tr>\n",
       "      <th>2</th>\n",
       "      <td>2012-10-01 14:00:00</td>\n",
       "      <td>7.0</td>\n",
       "    </tr>\n",
       "    <tr>\n",
       "      <th>3</th>\n",
       "      <td>2012-10-01 15:00:00</td>\n",
       "      <td>7.0</td>\n",
       "    </tr>\n",
       "    <tr>\n",
       "      <th>4</th>\n",
       "      <td>2012-10-01 16:00:00</td>\n",
       "      <td>7.0</td>\n",
       "    </tr>\n",
       "  </tbody>\n",
       "</table>\n",
       "</div>"
      ],
      "text/plain": [
       "             datetime  wind_speed\n",
       "0 2012-10-01 12:00:00         NaN\n",
       "1 2012-10-01 13:00:00         7.0\n",
       "2 2012-10-01 14:00:00         7.0\n",
       "3 2012-10-01 15:00:00         7.0\n",
       "4 2012-10-01 16:00:00         7.0"
      ]
     },
     "execution_count": 165,
     "metadata": {},
     "output_type": "execute_result"
    }
   ],
   "source": [
    "data_speed=city_speed[['datetime','New York']]\n",
    "data_speed=data_speed.rename(columns={'New York':'wind_speed'})\n",
    "data_speed.head(5)"
   ]
  },
  {
   "cell_type": "code",
   "execution_count": 166,
   "metadata": {},
   "outputs": [
    {
     "data": {
      "text/html": [
       "<div>\n",
       "<style scoped>\n",
       "    .dataframe tbody tr th:only-of-type {\n",
       "        vertical-align: middle;\n",
       "    }\n",
       "\n",
       "    .dataframe tbody tr th {\n",
       "        vertical-align: top;\n",
       "    }\n",
       "\n",
       "    .dataframe thead th {\n",
       "        text-align: right;\n",
       "    }\n",
       "</style>\n",
       "<table border=\"1\" class=\"dataframe\">\n",
       "  <thead>\n",
       "    <tr style=\"text-align: right;\">\n",
       "      <th></th>\n",
       "      <th>datetime</th>\n",
       "      <th>wind_direction</th>\n",
       "    </tr>\n",
       "  </thead>\n",
       "  <tbody>\n",
       "    <tr>\n",
       "      <th>0</th>\n",
       "      <td>2012-10-01 12:00:00</td>\n",
       "      <td>NaN</td>\n",
       "    </tr>\n",
       "    <tr>\n",
       "      <th>1</th>\n",
       "      <td>2012-10-01 13:00:00</td>\n",
       "      <td>260.0</td>\n",
       "    </tr>\n",
       "    <tr>\n",
       "      <th>2</th>\n",
       "      <td>2012-10-01 14:00:00</td>\n",
       "      <td>260.0</td>\n",
       "    </tr>\n",
       "    <tr>\n",
       "      <th>3</th>\n",
       "      <td>2012-10-01 15:00:00</td>\n",
       "      <td>260.0</td>\n",
       "    </tr>\n",
       "    <tr>\n",
       "      <th>4</th>\n",
       "      <td>2012-10-01 16:00:00</td>\n",
       "      <td>260.0</td>\n",
       "    </tr>\n",
       "  </tbody>\n",
       "</table>\n",
       "</div>"
      ],
      "text/plain": [
       "             datetime  wind_direction\n",
       "0 2012-10-01 12:00:00             NaN\n",
       "1 2012-10-01 13:00:00           260.0\n",
       "2 2012-10-01 14:00:00           260.0\n",
       "3 2012-10-01 15:00:00           260.0\n",
       "4 2012-10-01 16:00:00           260.0"
      ]
     },
     "execution_count": 166,
     "metadata": {},
     "output_type": "execute_result"
    }
   ],
   "source": [
    "data_dir=city_dir[['datetime','New York']]\n",
    "data_dir=data_dir.rename(columns={'New York':'wind_direction'})\n",
    "data_dir.head(5)"
   ]
  },
  {
   "cell_type": "markdown",
   "metadata": {},
   "source": [
    "we havesome missing value. All features's tend to be constant from one hour to the next, so we can use backfill to replace any missing values and drop the rest."
   ]
  },
  {
   "cell_type": "code",
   "execution_count": 167,
   "metadata": {},
   "outputs": [],
   "source": [
    "data = data.fillna(method = 'bfill', axis=0).dropna()\n",
    "data_press = data_press.fillna(method = 'bfill', axis=0).dropna()\n",
    "data_humid = data_humid.fillna(method = 'bfill', axis=0).dropna()\n",
    "data_dir = data_dir.fillna(method = 'bfill', axis=0).dropna()\n",
    "data_speed = data_speed.fillna(method = 'bfill', axis=0).dropna()"
   ]
  },
  {
   "cell_type": "code",
   "execution_count": 168,
   "metadata": {},
   "outputs": [],
   "source": [
    "total_data=pd.concat([data,data_humid['humidity'],data_press['pressure'],data_speed['wind_speed'],data_dir['wind_direction']], axis=1)"
   ]
  },
  {
   "cell_type": "code",
   "execution_count": 141,
   "metadata": {},
   "outputs": [
    {
     "data": {
      "text/html": [
       "<div>\n",
       "<style scoped>\n",
       "    .dataframe tbody tr th:only-of-type {\n",
       "        vertical-align: middle;\n",
       "    }\n",
       "\n",
       "    .dataframe tbody tr th {\n",
       "        vertical-align: top;\n",
       "    }\n",
       "\n",
       "    .dataframe thead th {\n",
       "        text-align: right;\n",
       "    }\n",
       "</style>\n",
       "<table border=\"1\" class=\"dataframe\">\n",
       "  <thead>\n",
       "    <tr style=\"text-align: right;\">\n",
       "      <th></th>\n",
       "      <th>datetime</th>\n",
       "      <th>temperature</th>\n",
       "      <th>hour</th>\n",
       "      <th>humidity</th>\n",
       "      <th>pressure</th>\n",
       "      <th>wind_speed</th>\n",
       "      <th>wind_direction</th>\n",
       "    </tr>\n",
       "  </thead>\n",
       "  <tbody>\n",
       "    <tr>\n",
       "      <th>0</th>\n",
       "      <td>2012-10-01 12:00:00</td>\n",
       "      <td>284.630000</td>\n",
       "      <td>12</td>\n",
       "      <td>76.0</td>\n",
       "      <td>807.0</td>\n",
       "      <td>0.0</td>\n",
       "      <td>0.0</td>\n",
       "    </tr>\n",
       "    <tr>\n",
       "      <th>1</th>\n",
       "      <td>2012-10-01 13:00:00</td>\n",
       "      <td>284.630000</td>\n",
       "      <td>13</td>\n",
       "      <td>76.0</td>\n",
       "      <td>807.0</td>\n",
       "      <td>0.0</td>\n",
       "      <td>0.0</td>\n",
       "    </tr>\n",
       "    <tr>\n",
       "      <th>2</th>\n",
       "      <td>2012-10-01 14:00:00</td>\n",
       "      <td>284.629041</td>\n",
       "      <td>14</td>\n",
       "      <td>76.0</td>\n",
       "      <td>807.0</td>\n",
       "      <td>0.0</td>\n",
       "      <td>6.0</td>\n",
       "    </tr>\n",
       "    <tr>\n",
       "      <th>3</th>\n",
       "      <td>2012-10-01 15:00:00</td>\n",
       "      <td>284.626998</td>\n",
       "      <td>15</td>\n",
       "      <td>76.0</td>\n",
       "      <td>807.0</td>\n",
       "      <td>0.0</td>\n",
       "      <td>20.0</td>\n",
       "    </tr>\n",
       "    <tr>\n",
       "      <th>4</th>\n",
       "      <td>2012-10-01 16:00:00</td>\n",
       "      <td>284.624955</td>\n",
       "      <td>16</td>\n",
       "      <td>77.0</td>\n",
       "      <td>807.0</td>\n",
       "      <td>0.0</td>\n",
       "      <td>34.0</td>\n",
       "    </tr>\n",
       "  </tbody>\n",
       "</table>\n",
       "</div>"
      ],
      "text/plain": [
       "             datetime  temperature  hour  humidity  pressure  wind_speed  \\\n",
       "0 2012-10-01 12:00:00   284.630000    12      76.0     807.0         0.0   \n",
       "1 2012-10-01 13:00:00   284.630000    13      76.0     807.0         0.0   \n",
       "2 2012-10-01 14:00:00   284.629041    14      76.0     807.0         0.0   \n",
       "3 2012-10-01 15:00:00   284.626998    15      76.0     807.0         0.0   \n",
       "4 2012-10-01 16:00:00   284.624955    16      77.0     807.0         0.0   \n",
       "\n",
       "   wind_direction  \n",
       "0             0.0  \n",
       "1             0.0  \n",
       "2             6.0  \n",
       "3            20.0  \n",
       "4            34.0  "
      ]
     },
     "execution_count": 141,
     "metadata": {},
     "output_type": "execute_result"
    }
   ],
   "source": [
    "total_data.head(5)"
   ]
  },
  {
   "cell_type": "markdown",
   "metadata": {},
   "source": [
    "There is no missing value and there is no outlayer so our data looks good."
   ]
  },
  {
   "cell_type": "markdown",
   "metadata": {},
   "source": [
    "# feature engineering"
   ]
  },
  {
   "cell_type": "code",
   "execution_count": 169,
   "metadata": {},
   "outputs": [],
   "source": [
    "#convert kelvin to celsios\n",
    "total_data[\"temperature\"].describe()\n",
    "total_data[\"temperature\"]=total_data[\"temperature\"] - 273.15"
   ]
  },
  {
   "cell_type": "code",
   "execution_count": 170,
   "metadata": {},
   "outputs": [
    {
     "name": "stdout",
     "output_type": "stream",
     "text": [
      "count    44461.000000\n",
      "mean        12.250469\n",
      "std         10.220826\n",
      "min        -22.376000\n",
      "25%          4.220000\n",
      "50%         12.720000\n",
      "75%         20.610000\n",
      "max         37.090000\n",
      "Name: temperature, dtype: float64\n"
     ]
    },
    {
     "data": {
      "image/png": "[encoded data removed]",
      "text/plain": [
       "<matplotlib.figure.Figure at 0x1680a5d9080>"
      ]
     },
     "metadata": {},
     "output_type": "display_data"
    }
   ],
   "source": [
    "print(total_data.temperature.describe())\n",
    "plot = sns.distplot(total_data.temperature)"
   ]
  },
  {
   "cell_type": "code",
   "execution_count": 171,
   "metadata": {
    "scrolled": false
   },
   "outputs": [
    {
     "name": "stdout",
     "output_type": "stream",
     "text": [
      "count    44461.000000\n",
      "mean        66.516790\n",
      "std         19.884897\n",
      "min         10.000000\n",
      "25%         51.000000\n",
      "50%         68.000000\n",
      "75%         83.000000\n",
      "max        100.000000\n",
      "Name: humidity, dtype: float64\n"
     ]
    },
    {
     "data": {
      "image/png": "[encoded data removed]",
      "text/plain": [
       "<matplotlib.figure.Figure at 0x1680b47a390>"
      ]
     },
     "metadata": {},
     "output_type": "display_data"
    }
   ],
   "source": [
    "print(total_data.humidity.describe())\n",
    "plot = sns.distplot(total_data.humidity)"
   ]
  },
  {
   "cell_type": "code",
   "execution_count": 172,
   "metadata": {},
   "outputs": [
    {
     "name": "stdout",
     "output_type": "stream",
     "text": [
      "count    44461.000000\n",
      "mean      1017.021142\n",
      "std         10.113110\n",
      "min        959.000000\n",
      "25%       1012.000000\n",
      "50%       1017.000000\n",
      "75%       1023.000000\n",
      "max       1052.000000\n",
      "Name: pressure, dtype: float64\n"
     ]
    },
    {
     "data": {
      "image/png": "[encoded data removed]",
      "text/plain": [
       "<matplotlib.figure.Figure at 0x1680b4574e0>"
      ]
     },
     "metadata": {},
     "output_type": "display_data"
    }
   ],
   "source": [
    "print(total_data.pressure.describe())\n",
    "plot = sns.distplot(total_data.pressure)"
   ]
  },
  {
   "cell_type": "code",
   "execution_count": 173,
   "metadata": {},
   "outputs": [
    {
     "name": "stdout",
     "output_type": "stream",
     "text": [
      "count    44461.000000\n",
      "mean         3.211039\n",
      "std          2.189765\n",
      "min          0.000000\n",
      "25%          2.000000\n",
      "50%          3.000000\n",
      "75%          4.000000\n",
      "max         25.000000\n",
      "Name: wind_speed, dtype: float64\n"
     ]
    },
    {
     "data": {
      "image/png": "[encoded data removed]",
      "text/plain": [
       "<matplotlib.figure.Figure at 0x1680a76c0f0>"
      ]
     },
     "metadata": {},
     "output_type": "display_data"
    }
   ],
   "source": [
    "print(total_data.wind_speed.describe())\n",
    "plot = sns.distplot(total_data.wind_speed)"
   ]
  },
  {
   "cell_type": "code",
   "execution_count": 174,
   "metadata": {},
   "outputs": [
    {
     "name": "stdout",
     "output_type": "stream",
     "text": [
      "count    44461.000000\n",
      "mean       196.251681\n",
      "std        107.432893\n",
      "min          0.000000\n",
      "25%        104.000000\n",
      "50%        220.000000\n",
      "75%        289.000000\n",
      "max        360.000000\n",
      "Name: wind_direction, dtype: float64\n"
     ]
    },
    {
     "data": {
      "image/png": "[encoded data removed]",
      "text/plain": [
       "<matplotlib.figure.Figure at 0x1680a84c5c0>"
      ]
     },
     "metadata": {},
     "output_type": "display_data"
    }
   ],
   "source": [
    "print(total_data.wind_direction.describe())\n",
    "plot = sns.distplot(total_data.wind_direction)"
   ]
  },
  {
   "cell_type": "code",
   "execution_count": 175,
   "metadata": {},
   "outputs": [
    {
     "data": {
      "text/plain": [
       "<matplotlib.axes._subplots.AxesSubplot at 0x1680a80f400>"
      ]
     },
     "execution_count": 175,
     "metadata": {},
     "output_type": "execute_result"
    },
    {
     "data": {
      "image/png": "[encoded data removed]",
      "text/plain": [
       "<matplotlib.figure.Figure at 0x1680a7bfd30>"
      ]
     },
     "metadata": {},
     "output_type": "display_data"
    }
   ],
   "source": [
    "#We are going to extract the hours from the datetime\n",
    "total_data['hour']=total_data.datetime.dt.hour\n",
    "# chose a sample aproximatly 15 days\n",
    "sample=total_data[:360]\n",
    "sample['hour'].plot()"
   ]
  },
  {
   "cell_type": "code",
   "execution_count": 176,
   "metadata": {},
   "outputs": [
    {
     "data": {
      "text/plain": [
       "<matplotlib.axes._subplots.AxesSubplot at 0x1680a7b6ba8>"
      ]
     },
     "execution_count": 176,
     "metadata": {},
     "output_type": "execute_result"
    },
    {
     "data": {
      "image/png": "[encoded data removed]",
      "text/plain": [
       "<matplotlib.figure.Figure at 0x1680a75d048>"
      ]
     },
     "metadata": {},
     "output_type": "display_data"
    }
   ],
   "source": [
    "total_data['day']=total_data.datetime.dt.day\n",
    "sample=total_data[650:750]\n",
    "sample['day'].plot()"
   ]
  },
  {
   "cell_type": "code",
   "execution_count": 177,
   "metadata": {},
   "outputs": [
    {
     "data": {
      "text/plain": [
       "<matplotlib.axes._subplots.AxesSubplot at 0x1680a6a9278>"
      ]
     },
     "execution_count": 177,
     "metadata": {},
     "output_type": "execute_result"
    },
    {
     "data": {
      "image/png": "[encoded data removed]",
      "text/plain": [
       "<matplotlib.figure.Figure at 0x1680b47dfd0>"
      ]
     },
     "metadata": {},
     "output_type": "display_data"
    }
   ],
   "source": [
    "total_data['month']=total_data.datetime.dt.month\n",
    "sample=total_data[650:750]\n",
    "sample['month'].plot()"
   ]
  },
  {
   "cell_type": "markdown",
   "metadata": {},
   "source": [
    "we need to see a cycle betwwn 0 and 23 that repeat 15 times. when the time goes from 23 to 0 we have a jump, so there is a problem about presenting syclical data to machine learnin algorithem. we chose one day to have a look at the time arounf midnight"
   ]
  },
  {
   "cell_type": "code",
   "execution_count": 178,
   "metadata": {},
   "outputs": [
    {
     "data": {
      "text/html": [
       "<div>\n",
       "<style scoped>\n",
       "    .dataframe tbody tr th:only-of-type {\n",
       "        vertical-align: middle;\n",
       "    }\n",
       "\n",
       "    .dataframe tbody tr th {\n",
       "        vertical-align: top;\n",
       "    }\n",
       "\n",
       "    .dataframe thead th {\n",
       "        text-align: right;\n",
       "    }\n",
       "</style>\n",
       "<table border=\"1\" class=\"dataframe\">\n",
       "  <thead>\n",
       "    <tr style=\"text-align: right;\">\n",
       "      <th></th>\n",
       "      <th>datetime</th>\n",
       "      <th>temperature</th>\n",
       "      <th>hour</th>\n",
       "      <th>humidity</th>\n",
       "      <th>pressure</th>\n",
       "      <th>wind_speed</th>\n",
       "      <th>wind_direction</th>\n",
       "      <th>day</th>\n",
       "      <th>month</th>\n",
       "    </tr>\n",
       "  </thead>\n",
       "  <tbody>\n",
       "    <tr>\n",
       "      <th>683</th>\n",
       "      <td>2012-10-29 23:00:00</td>\n",
       "      <td>14.09</td>\n",
       "      <td>23</td>\n",
       "      <td>72.0</td>\n",
       "      <td>1006.0</td>\n",
       "      <td>10.0</td>\n",
       "      <td>40.0</td>\n",
       "      <td>29</td>\n",
       "      <td>10</td>\n",
       "    </tr>\n",
       "    <tr>\n",
       "      <th>684</th>\n",
       "      <td>2012-10-30 00:00:00</td>\n",
       "      <td>14.09</td>\n",
       "      <td>0</td>\n",
       "      <td>72.0</td>\n",
       "      <td>1006.0</td>\n",
       "      <td>11.0</td>\n",
       "      <td>50.0</td>\n",
       "      <td>30</td>\n",
       "      <td>10</td>\n",
       "    </tr>\n",
       "    <tr>\n",
       "      <th>685</th>\n",
       "      <td>2012-10-30 01:00:00</td>\n",
       "      <td>13.95</td>\n",
       "      <td>1</td>\n",
       "      <td>76.0</td>\n",
       "      <td>1006.0</td>\n",
       "      <td>13.0</td>\n",
       "      <td>50.0</td>\n",
       "      <td>30</td>\n",
       "      <td>10</td>\n",
       "    </tr>\n",
       "    <tr>\n",
       "      <th>686</th>\n",
       "      <td>2012-10-30 02:00:00</td>\n",
       "      <td>13.82</td>\n",
       "      <td>2</td>\n",
       "      <td>71.0</td>\n",
       "      <td>1005.0</td>\n",
       "      <td>10.0</td>\n",
       "      <td>40.0</td>\n",
       "      <td>30</td>\n",
       "      <td>10</td>\n",
       "    </tr>\n",
       "    <tr>\n",
       "      <th>687</th>\n",
       "      <td>2012-10-30 03:00:00</td>\n",
       "      <td>13.44</td>\n",
       "      <td>3</td>\n",
       "      <td>71.0</td>\n",
       "      <td>1005.0</td>\n",
       "      <td>12.0</td>\n",
       "      <td>50.0</td>\n",
       "      <td>30</td>\n",
       "      <td>10</td>\n",
       "    </tr>\n",
       "  </tbody>\n",
       "</table>\n",
       "</div>"
      ],
      "text/plain": [
       "               datetime  temperature  hour  humidity  pressure  wind_speed  \\\n",
       "683 2012-10-29 23:00:00        14.09    23      72.0    1006.0        10.0   \n",
       "684 2012-10-30 00:00:00        14.09     0      72.0    1006.0        11.0   \n",
       "685 2012-10-30 01:00:00        13.95     1      76.0    1006.0        13.0   \n",
       "686 2012-10-30 02:00:00        13.82     2      71.0    1005.0        10.0   \n",
       "687 2012-10-30 03:00:00        13.44     3      71.0    1005.0        12.0   \n",
       "\n",
       "     wind_direction  day  month  \n",
       "683            40.0   29     10  \n",
       "684            50.0   30     10  \n",
       "685            50.0   30     10  \n",
       "686            40.0   30     10  \n",
       "687            50.0   30     10  "
      ]
     },
     "execution_count": 178,
     "metadata": {},
     "output_type": "execute_result"
    }
   ],
   "source": [
    "sample[33:38]"
   ]
  },
  {
   "cell_type": "markdown",
   "metadata": {},
   "source": [
    "between record 34 and 35 : 23-22=1\n",
    "between record 35 and 36 : 0-23=-23\n",
    "so we need to change the encoding of the feature. A common method for encoding cyclical data is to transform the data into two dimensions using a sine and consine transformation."
   ]
  },
  {
   "cell_type": "code",
   "execution_count": 186,
   "metadata": {},
   "outputs": [],
   "source": [
    "def cyclical(dataset,column,max_v):\n",
    "    dataset[column+'_sin']=np.sin(2*np.pi*dataset[column]/max_v)\n",
    "    dataset[column+'_cos']=np.cos(2*np.pi*dataset[column]/max_v)\n",
    "    return dataset\n"
   ]
  },
  {
   "cell_type": "code",
   "execution_count": 190,
   "metadata": {},
   "outputs": [
    {
     "data": {
      "text/html": [
       "<div>\n",
       "<style scoped>\n",
       "    .dataframe tbody tr th:only-of-type {\n",
       "        vertical-align: middle;\n",
       "    }\n",
       "\n",
       "    .dataframe tbody tr th {\n",
       "        vertical-align: top;\n",
       "    }\n",
       "\n",
       "    .dataframe thead th {\n",
       "        text-align: right;\n",
       "    }\n",
       "</style>\n",
       "<table border=\"1\" class=\"dataframe\">\n",
       "  <thead>\n",
       "    <tr style=\"text-align: right;\">\n",
       "      <th></th>\n",
       "      <th>datetime</th>\n",
       "      <th>temperature</th>\n",
       "      <th>hour</th>\n",
       "      <th>humidity</th>\n",
       "      <th>pressure</th>\n",
       "      <th>wind_speed</th>\n",
       "      <th>wind_direction</th>\n",
       "      <th>day</th>\n",
       "      <th>month</th>\n",
       "      <th>hour_sin</th>\n",
       "      <th>hour_cos</th>\n",
       "      <th>day_sin</th>\n",
       "      <th>day_cos</th>\n",
       "      <th>month_sin</th>\n",
       "      <th>month_cos</th>\n",
       "    </tr>\n",
       "  </thead>\n",
       "  <tbody>\n",
       "    <tr>\n",
       "      <th>0</th>\n",
       "      <td>2012-10-01 12:00:00</td>\n",
       "      <td>15.070000</td>\n",
       "      <td>12</td>\n",
       "      <td>58.0</td>\n",
       "      <td>1012.0</td>\n",
       "      <td>7.0</td>\n",
       "      <td>260.0</td>\n",
       "      <td>1</td>\n",
       "      <td>10</td>\n",
       "      <td>-0.136167</td>\n",
       "      <td>-0.990686</td>\n",
       "      <td>0.017213</td>\n",
       "      <td>0.999852</td>\n",
       "      <td>-0.866025</td>\n",
       "      <td>0.5</td>\n",
       "    </tr>\n",
       "    <tr>\n",
       "      <th>1</th>\n",
       "      <td>2012-10-01 13:00:00</td>\n",
       "      <td>15.070000</td>\n",
       "      <td>13</td>\n",
       "      <td>58.0</td>\n",
       "      <td>1012.0</td>\n",
       "      <td>7.0</td>\n",
       "      <td>260.0</td>\n",
       "      <td>1</td>\n",
       "      <td>10</td>\n",
       "      <td>-0.398401</td>\n",
       "      <td>-0.917211</td>\n",
       "      <td>0.017213</td>\n",
       "      <td>0.999852</td>\n",
       "      <td>-0.866025</td>\n",
       "      <td>0.5</td>\n",
       "    </tr>\n",
       "    <tr>\n",
       "      <th>2</th>\n",
       "      <td>2012-10-01 14:00:00</td>\n",
       "      <td>15.097676</td>\n",
       "      <td>14</td>\n",
       "      <td>57.0</td>\n",
       "      <td>1012.0</td>\n",
       "      <td>7.0</td>\n",
       "      <td>260.0</td>\n",
       "      <td>1</td>\n",
       "      <td>10</td>\n",
       "      <td>-0.631088</td>\n",
       "      <td>-0.775711</td>\n",
       "      <td>0.017213</td>\n",
       "      <td>0.999852</td>\n",
       "      <td>-0.866025</td>\n",
       "      <td>0.5</td>\n",
       "    </tr>\n",
       "    <tr>\n",
       "      <th>3</th>\n",
       "      <td>2012-10-01 15:00:00</td>\n",
       "      <td>15.176940</td>\n",
       "      <td>15</td>\n",
       "      <td>57.0</td>\n",
       "      <td>1012.0</td>\n",
       "      <td>7.0</td>\n",
       "      <td>260.0</td>\n",
       "      <td>1</td>\n",
       "      <td>10</td>\n",
       "      <td>-0.816970</td>\n",
       "      <td>-0.576680</td>\n",
       "      <td>0.017213</td>\n",
       "      <td>0.999852</td>\n",
       "      <td>-0.866025</td>\n",
       "      <td>0.5</td>\n",
       "    </tr>\n",
       "    <tr>\n",
       "      <th>4</th>\n",
       "      <td>2012-10-01 16:00:00</td>\n",
       "      <td>15.256203</td>\n",
       "      <td>16</td>\n",
       "      <td>57.0</td>\n",
       "      <td>1012.0</td>\n",
       "      <td>7.0</td>\n",
       "      <td>260.0</td>\n",
       "      <td>1</td>\n",
       "      <td>10</td>\n",
       "      <td>-0.942261</td>\n",
       "      <td>-0.334880</td>\n",
       "      <td>0.017213</td>\n",
       "      <td>0.999852</td>\n",
       "      <td>-0.866025</td>\n",
       "      <td>0.5</td>\n",
       "    </tr>\n",
       "  </tbody>\n",
       "</table>\n",
       "</div>"
      ],
      "text/plain": [
       "             datetime  temperature  hour  humidity  pressure  wind_speed  \\\n",
       "0 2012-10-01 12:00:00    15.070000    12      58.0    1012.0         7.0   \n",
       "1 2012-10-01 13:00:00    15.070000    13      58.0    1012.0         7.0   \n",
       "2 2012-10-01 14:00:00    15.097676    14      57.0    1012.0         7.0   \n",
       "3 2012-10-01 15:00:00    15.176940    15      57.0    1012.0         7.0   \n",
       "4 2012-10-01 16:00:00    15.256203    16      57.0    1012.0         7.0   \n",
       "\n",
       "   wind_direction  day  month  hour_sin  hour_cos   day_sin   day_cos  \\\n",
       "0           260.0    1     10 -0.136167 -0.990686  0.017213  0.999852   \n",
       "1           260.0    1     10 -0.398401 -0.917211  0.017213  0.999852   \n",
       "2           260.0    1     10 -0.631088 -0.775711  0.017213  0.999852   \n",
       "3           260.0    1     10 -0.816970 -0.576680  0.017213  0.999852   \n",
       "4           260.0    1     10 -0.942261 -0.334880  0.017213  0.999852   \n",
       "\n",
       "   month_sin  month_cos  \n",
       "0  -0.866025        0.5  \n",
       "1  -0.866025        0.5  \n",
       "2  -0.866025        0.5  \n",
       "3  -0.866025        0.5  \n",
       "4  -0.866025        0.5  "
      ]
     },
     "execution_count": 190,
     "metadata": {},
     "output_type": "execute_result"
    }
   ],
   "source": [
    "total_data.head(5)"
   ]
  },
  {
   "cell_type": "code",
   "execution_count": 192,
   "metadata": {},
   "outputs": [],
   "source": [
    "total_data= cyclical(total_data,'hour',23.0)\n",
    "total_data= cyclical(total_data,'day',365.0)\n",
    "total_data= cyclical(total_data,'month',12.0)"
   ]
  },
  {
   "cell_type": "code",
   "execution_count": 193,
   "metadata": {},
   "outputs": [
    {
     "data": {
      "image/png": "[encoded data removed]",
      "text/plain": [
       "<matplotlib.figure.Figure at 0x168096ff3c8>"
      ]
     },
     "metadata": {},
     "output_type": "display_data"
    }
   ],
   "source": [
    "sample.plot.scatter('hour_sin','hour_cos').set_aspect('equal')"
   ]
  },
  {
   "cell_type": "markdown",
   "metadata": {},
   "source": [
    "now, it is prefect to present as a cyclical feature for machine learning algorithms."
   ]
  },
  {
   "cell_type": "code",
   "execution_count": 182,
   "metadata": {},
   "outputs": [
    {
     "data": {
      "text/html": [
       "<div>\n",
       "<style scoped>\n",
       "    .dataframe tbody tr th:only-of-type {\n",
       "        vertical-align: middle;\n",
       "    }\n",
       "\n",
       "    .dataframe tbody tr th {\n",
       "        vertical-align: top;\n",
       "    }\n",
       "\n",
       "    .dataframe thead th {\n",
       "        text-align: right;\n",
       "    }\n",
       "</style>\n",
       "<table border=\"1\" class=\"dataframe\">\n",
       "  <thead>\n",
       "    <tr style=\"text-align: right;\">\n",
       "      <th></th>\n",
       "      <th>datetime</th>\n",
       "      <th>temperature</th>\n",
       "      <th>hour</th>\n",
       "      <th>humidity</th>\n",
       "      <th>pressure</th>\n",
       "      <th>wind_speed</th>\n",
       "      <th>wind_direction</th>\n",
       "      <th>day</th>\n",
       "      <th>month</th>\n",
       "      <th>hour_sin</th>\n",
       "      <th>hour_cos</th>\n",
       "    </tr>\n",
       "  </thead>\n",
       "  <tbody>\n",
       "    <tr>\n",
       "      <th>0</th>\n",
       "      <td>2012-10-01 12:00:00</td>\n",
       "      <td>15.070000</td>\n",
       "      <td>12</td>\n",
       "      <td>58.0</td>\n",
       "      <td>1012.0</td>\n",
       "      <td>7.0</td>\n",
       "      <td>260.0</td>\n",
       "      <td>1</td>\n",
       "      <td>10</td>\n",
       "      <td>-0.136167</td>\n",
       "      <td>-0.990686</td>\n",
       "    </tr>\n",
       "    <tr>\n",
       "      <th>1</th>\n",
       "      <td>2012-10-01 13:00:00</td>\n",
       "      <td>15.070000</td>\n",
       "      <td>13</td>\n",
       "      <td>58.0</td>\n",
       "      <td>1012.0</td>\n",
       "      <td>7.0</td>\n",
       "      <td>260.0</td>\n",
       "      <td>1</td>\n",
       "      <td>10</td>\n",
       "      <td>-0.398401</td>\n",
       "      <td>-0.917211</td>\n",
       "    </tr>\n",
       "    <tr>\n",
       "      <th>2</th>\n",
       "      <td>2012-10-01 14:00:00</td>\n",
       "      <td>15.097676</td>\n",
       "      <td>14</td>\n",
       "      <td>57.0</td>\n",
       "      <td>1012.0</td>\n",
       "      <td>7.0</td>\n",
       "      <td>260.0</td>\n",
       "      <td>1</td>\n",
       "      <td>10</td>\n",
       "      <td>-0.631088</td>\n",
       "      <td>-0.775711</td>\n",
       "    </tr>\n",
       "    <tr>\n",
       "      <th>3</th>\n",
       "      <td>2012-10-01 15:00:00</td>\n",
       "      <td>15.176940</td>\n",
       "      <td>15</td>\n",
       "      <td>57.0</td>\n",
       "      <td>1012.0</td>\n",
       "      <td>7.0</td>\n",
       "      <td>260.0</td>\n",
       "      <td>1</td>\n",
       "      <td>10</td>\n",
       "      <td>-0.816970</td>\n",
       "      <td>-0.576680</td>\n",
       "    </tr>\n",
       "    <tr>\n",
       "      <th>4</th>\n",
       "      <td>2012-10-01 16:00:00</td>\n",
       "      <td>15.256203</td>\n",
       "      <td>16</td>\n",
       "      <td>57.0</td>\n",
       "      <td>1012.0</td>\n",
       "      <td>7.0</td>\n",
       "      <td>260.0</td>\n",
       "      <td>1</td>\n",
       "      <td>10</td>\n",
       "      <td>-0.942261</td>\n",
       "      <td>-0.334880</td>\n",
       "    </tr>\n",
       "  </tbody>\n",
       "</table>\n",
       "</div>"
      ],
      "text/plain": [
       "             datetime  temperature  hour  humidity  pressure  wind_speed  \\\n",
       "0 2012-10-01 12:00:00    15.070000    12      58.0    1012.0         7.0   \n",
       "1 2012-10-01 13:00:00    15.070000    13      58.0    1012.0         7.0   \n",
       "2 2012-10-01 14:00:00    15.097676    14      57.0    1012.0         7.0   \n",
       "3 2012-10-01 15:00:00    15.176940    15      57.0    1012.0         7.0   \n",
       "4 2012-10-01 16:00:00    15.256203    16      57.0    1012.0         7.0   \n",
       "\n",
       "   wind_direction  day  month  hour_sin  hour_cos  \n",
       "0           260.0    1     10 -0.136167 -0.990686  \n",
       "1           260.0    1     10 -0.398401 -0.917211  \n",
       "2           260.0    1     10 -0.631088 -0.775711  \n",
       "3           260.0    1     10 -0.816970 -0.576680  \n",
       "4           260.0    1     10 -0.942261 -0.334880  "
      ]
     },
     "execution_count": 182,
     "metadata": {},
     "output_type": "execute_result"
    }
   ],
   "source": [
    "total_data.head(5)"
   ]
  },
  {
   "cell_type": "code",
   "execution_count": 196,
   "metadata": {},
   "outputs": [],
   "source": [
    "total_data.to_csv(\"New York_hourlyWeather_cyclical.csv.gz\",index=False,compression=\"gzip\")"
   ]
  },
  {
   "cell_type": "markdown",
   "metadata": {},
   "source": [
    "# training and Test\n"
   ]
  },
  {
   "cell_type": "code",
   "execution_count": null,
   "metadata": {},
   "outputs": [],
   "source": []
  },
  {
   "cell_type": "code",
   "execution_count": null,
   "metadata": {},
   "outputs": [],
   "source": []
  },
  {
   "cell_type": "raw",
   "metadata": {},
   "source": [
    "# "
   ]
  }
 ],
 "metadata": {
  "kernelspec": {
   "display_name": "Python 3",
   "language": "python",
   "name": "python3"
  },
  "language_info": {
   "codemirror_mode": {
    "name": "ipython",
    "version": 3
   },
   "file_extension": ".py",
   "mimetype": "text/x-python",
   "name": "python",
   "nbconvert_exporter": "python",
   "pygments_lexer": "ipython3",
   "version": "3.6.4"
  }
 },
 "nbformat": 4,
 "nbformat_minor": 2
}
