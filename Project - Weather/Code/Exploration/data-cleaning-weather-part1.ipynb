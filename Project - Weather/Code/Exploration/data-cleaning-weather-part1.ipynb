{
 "cells": [
  {
   "cell_type": "markdown",
   "metadata": {},
   "source": [
    ".pandas is a software library written for the Python programming language for data manipulation and analysis.\n",
    ".NumPymis a library for the Python programming language, adding support for large, multi-dimensional arrays and matrices, along with a large collection of high-level mathematical functions to operate on these arrays.\n",
    ".Matplotlib is a plotting library for Python. It is used along with NumPy to provide an environment that is an effective open source alternative for MatLab.\n",
    ".matplotlib.pyplot is a collection of command style functions that make matplotlib work like MATLAB.\n",
    ".Seaborn is a Python visualization library based on matplotlib. It provides a high-level interface for drawing attractive statistical graphics."
   ]
  },
  {
   "cell_type": "code",
   "execution_count": 1,
   "metadata": {},
   "outputs": [],
   "source": [
    "import pandas as pd\n",
    "import numpy  as np\n",
    "import matplotlib as mpl\n",
    "import matplotlib.pyplot as plt\n",
    "import seaborn as sns\n",
    "mpl.style.use('seaborn')"
   ]
  },
  {
   "cell_type": "markdown",
   "metadata": {},
   "source": [
    "preparing data"
   ]
  },
  {
   "cell_type": "code",
   "execution_count": 25,
   "metadata": {},
   "outputs": [
    {
     "data": {
      "text/html": [
       "<div>\n",
       "<style scoped>\n",
       "    .dataframe tbody tr th:only-of-type {\n",
       "        vertical-align: middle;\n",
       "    }\n",
       "\n",
       "    .dataframe tbody tr th {\n",
       "        vertical-align: top;\n",
       "    }\n",
       "\n",
       "    .dataframe thead th {\n",
       "        text-align: right;\n",
       "    }\n",
       "</style>\n",
       "<table border=\"1\" class=\"dataframe\">\n",
       "  <thead>\n",
       "    <tr style=\"text-align: right;\">\n",
       "      <th></th>\n",
       "      <th>datetime</th>\n",
       "      <th>Vancouver</th>\n",
       "      <th>Portland</th>\n",
       "      <th>San Francisco</th>\n",
       "      <th>Seattle</th>\n",
       "      <th>Los Angeles</th>\n",
       "      <th>San Diego</th>\n",
       "      <th>Las Vegas</th>\n",
       "      <th>Phoenix</th>\n",
       "      <th>Albuquerque</th>\n",
       "      <th>...</th>\n",
       "      <th>Philadelphia</th>\n",
       "      <th>New York</th>\n",
       "      <th>Montreal</th>\n",
       "      <th>Boston</th>\n",
       "      <th>Beersheba</th>\n",
       "      <th>Tel Aviv District</th>\n",
       "      <th>Eilat</th>\n",
       "      <th>Haifa</th>\n",
       "      <th>Nahariyya</th>\n",
       "      <th>Jerusalem</th>\n",
       "    </tr>\n",
       "  </thead>\n",
       "  <tbody>\n",
       "    <tr>\n",
       "      <th>20855</th>\n",
       "      <td>2015-02-17 11:00:00</td>\n",
       "      <td>273.817</td>\n",
       "      <td>278.450333</td>\n",
       "      <td>283.083667</td>\n",
       "      <td>278.867</td>\n",
       "      <td>277.933667</td>\n",
       "      <td>277.033667</td>\n",
       "      <td>273.350333</td>\n",
       "      <td>280.350333</td>\n",
       "      <td>269.333667</td>\n",
       "      <td>...</td>\n",
       "      <td>261.533667</td>\n",
       "      <td>263.867</td>\n",
       "      <td>245.950333</td>\n",
       "      <td>262.167</td>\n",
       "      <td>286.717</td>\n",
       "      <td>288.083667</td>\n",
       "      <td>285.400333</td>\n",
       "      <td>289.000333</td>\n",
       "      <td>289.000333</td>\n",
       "      <td>285.450333</td>\n",
       "    </tr>\n",
       "    <tr>\n",
       "      <th>1832</th>\n",
       "      <td>2012-12-16 20:00:00</td>\n",
       "      <td>275.460</td>\n",
       "      <td>275.900000</td>\n",
       "      <td>281.720000</td>\n",
       "      <td>276.090</td>\n",
       "      <td>287.510000</td>\n",
       "      <td>286.510000</td>\n",
       "      <td>281.850000</td>\n",
       "      <td>284.250000</td>\n",
       "      <td>276.230000</td>\n",
       "      <td>...</td>\n",
       "      <td>281.740000</td>\n",
       "      <td>281.610</td>\n",
       "      <td>265.060000</td>\n",
       "      <td>276.910</td>\n",
       "      <td>287.040</td>\n",
       "      <td>286.150000</td>\n",
       "      <td>285.505000</td>\n",
       "      <td>288.020000</td>\n",
       "      <td>288.020000</td>\n",
       "      <td>284.240000</td>\n",
       "    </tr>\n",
       "    <tr>\n",
       "      <th>35642</th>\n",
       "      <td>2016-10-25 14:00:00</td>\n",
       "      <td>282.900</td>\n",
       "      <td>283.225000</td>\n",
       "      <td>288.550000</td>\n",
       "      <td>283.925</td>\n",
       "      <td>283.000000</td>\n",
       "      <td>283.625000</td>\n",
       "      <td>280.675000</td>\n",
       "      <td>289.900000</td>\n",
       "      <td>287.775000</td>\n",
       "      <td>...</td>\n",
       "      <td>284.675000</td>\n",
       "      <td>283.250</td>\n",
       "      <td>278.300000</td>\n",
       "      <td>280.750</td>\n",
       "      <td>297.975</td>\n",
       "      <td>297.725000</td>\n",
       "      <td>298.350000</td>\n",
       "      <td>299.175000</td>\n",
       "      <td>299.175000</td>\n",
       "      <td>295.600000</td>\n",
       "    </tr>\n",
       "    <tr>\n",
       "      <th>33221</th>\n",
       "      <td>2016-07-16 17:00:00</td>\n",
       "      <td>292.264</td>\n",
       "      <td>291.864000</td>\n",
       "      <td>289.864000</td>\n",
       "      <td>292.864</td>\n",
       "      <td>299.014000</td>\n",
       "      <td>299.414000</td>\n",
       "      <td>309.264000</td>\n",
       "      <td>312.264000</td>\n",
       "      <td>305.364000</td>\n",
       "      <td>...</td>\n",
       "      <td>296.064000</td>\n",
       "      <td>293.864</td>\n",
       "      <td>296.764000</td>\n",
       "      <td>296.064</td>\n",
       "      <td>297.264</td>\n",
       "      <td>295.814000</td>\n",
       "      <td>303.564000</td>\n",
       "      <td>299.564000</td>\n",
       "      <td>299.564000</td>\n",
       "      <td>298.864000</td>\n",
       "    </tr>\n",
       "    <tr>\n",
       "      <th>45088</th>\n",
       "      <td>2017-11-23 04:00:00</td>\n",
       "      <td>NaN</td>\n",
       "      <td>287.530000</td>\n",
       "      <td>NaN</td>\n",
       "      <td>290.590</td>\n",
       "      <td>296.640000</td>\n",
       "      <td>295.680000</td>\n",
       "      <td>290.250000</td>\n",
       "      <td>294.710000</td>\n",
       "      <td>278.610000</td>\n",
       "      <td>...</td>\n",
       "      <td>274.740000</td>\n",
       "      <td>NaN</td>\n",
       "      <td>268.420000</td>\n",
       "      <td>277.070</td>\n",
       "      <td>NaN</td>\n",
       "      <td>NaN</td>\n",
       "      <td>NaN</td>\n",
       "      <td>NaN</td>\n",
       "      <td>NaN</td>\n",
       "      <td>NaN</td>\n",
       "    </tr>\n",
       "  </tbody>\n",
       "</table>\n",
       "<p>5 rows × 37 columns</p>\n",
       "</div>"
      ],
      "text/plain": [
       "                  datetime  Vancouver    Portland  San Francisco  Seattle  \\\n",
       "20855  2015-02-17 11:00:00    273.817  278.450333     283.083667  278.867   \n",
       "1832   2012-12-16 20:00:00    275.460  275.900000     281.720000  276.090   \n",
       "35642  2016-10-25 14:00:00    282.900  283.225000     288.550000  283.925   \n",
       "33221  2016-07-16 17:00:00    292.264  291.864000     289.864000  292.864   \n",
       "45088  2017-11-23 04:00:00        NaN  287.530000            NaN  290.590   \n",
       "\n",
       "       Los Angeles   San Diego   Las Vegas     Phoenix  Albuquerque  \\\n",
       "20855   277.933667  277.033667  273.350333  280.350333   269.333667   \n",
       "1832    287.510000  286.510000  281.850000  284.250000   276.230000   \n",
       "35642   283.000000  283.625000  280.675000  289.900000   287.775000   \n",
       "33221   299.014000  299.414000  309.264000  312.264000   305.364000   \n",
       "45088   296.640000  295.680000  290.250000  294.710000   278.610000   \n",
       "\n",
       "          ...      Philadelphia  New York    Montreal   Boston  Beersheba  \\\n",
       "20855     ...        261.533667   263.867  245.950333  262.167    286.717   \n",
       "1832      ...        281.740000   281.610  265.060000  276.910    287.040   \n",
       "35642     ...        284.675000   283.250  278.300000  280.750    297.975   \n",
       "33221     ...        296.064000   293.864  296.764000  296.064    297.264   \n",
       "45088     ...        274.740000       NaN  268.420000  277.070        NaN   \n",
       "\n",
       "       Tel Aviv District       Eilat       Haifa   Nahariyya   Jerusalem  \n",
       "20855         288.083667  285.400333  289.000333  289.000333  285.450333  \n",
       "1832          286.150000  285.505000  288.020000  288.020000  284.240000  \n",
       "35642         297.725000  298.350000  299.175000  299.175000  295.600000  \n",
       "33221         295.814000  303.564000  299.564000  299.564000  298.864000  \n",
       "45088                NaN         NaN         NaN         NaN         NaN  \n",
       "\n",
       "[5 rows x 37 columns]"
      ]
     },
     "execution_count": 25,
     "metadata": {},
     "output_type": "execute_result"
    }
   ],
   "source": [
    "city_temp=pd.read_csv(\"../data/raw/temperature.csv\")\n",
    "city_temp.sample(5)"
   ]
  },
  {
   "cell_type": "markdown",
   "metadata": {},
   "source": [
    "For each city we have timeseries in a column. We are going to chose Montreal as our chosen city and temperature as our chosen feature. It is better to convert the temperature to Celsius."
   ]
  },
  {
   "cell_type": "code",
   "execution_count": 36,
   "metadata": {},
   "outputs": [
    {
     "data": {
      "text/html": [
       "<div>\n",
       "<style scoped>\n",
       "    .dataframe tbody tr th:only-of-type {\n",
       "        vertical-align: middle;\n",
       "    }\n",
       "\n",
       "    .dataframe tbody tr th {\n",
       "        vertical-align: top;\n",
       "    }\n",
       "\n",
       "    .dataframe thead th {\n",
       "        text-align: right;\n",
       "    }\n",
       "</style>\n",
       "<table border=\"1\" class=\"dataframe\">\n",
       "  <thead>\n",
       "    <tr style=\"text-align: right;\">\n",
       "      <th></th>\n",
       "      <th>datetime</th>\n",
       "      <th>Montreal</th>\n",
       "    </tr>\n",
       "  </thead>\n",
       "  <tbody>\n",
       "    <tr>\n",
       "      <th>41391</th>\n",
       "      <td>2017-06-22 03:00:00</td>\n",
       "      <td>289.78</td>\n",
       "    </tr>\n",
       "    <tr>\n",
       "      <th>24860</th>\n",
       "      <td>2015-08-03 08:00:00</td>\n",
       "      <td>293.85</td>\n",
       "    </tr>\n",
       "    <tr>\n",
       "      <th>15873</th>\n",
       "      <td>2014-07-24 21:00:00</td>\n",
       "      <td>295.60</td>\n",
       "    </tr>\n",
       "    <tr>\n",
       "      <th>39741</th>\n",
       "      <td>2017-04-14 09:00:00</td>\n",
       "      <td>273.80</td>\n",
       "    </tr>\n",
       "    <tr>\n",
       "      <th>39701</th>\n",
       "      <td>2017-04-12 17:00:00</td>\n",
       "      <td>282.44</td>\n",
       "    </tr>\n",
       "  </tbody>\n",
       "</table>\n",
       "</div>"
      ],
      "text/plain": [
       "                  datetime  Montreal\n",
       "41391  2017-06-22 03:00:00    289.78\n",
       "24860  2015-08-03 08:00:00    293.85\n",
       "15873  2014-07-24 21:00:00    295.60\n",
       "39741  2017-04-14 09:00:00    273.80\n",
       "39701  2017-04-12 17:00:00    282.44"
      ]
     },
     "execution_count": 36,
     "metadata": {},
     "output_type": "execute_result"
    }
   ],
   "source": [
    "data=city_temp[['datetime','Montreal']]\n",
    "data.sample(5)"
   ]
  },
  {
   "cell_type": "code",
   "execution_count": 37,
   "metadata": {},
   "outputs": [
    {
     "data": {
      "text/html": [
       "<div>\n",
       "<style scoped>\n",
       "    .dataframe tbody tr th:only-of-type {\n",
       "        vertical-align: middle;\n",
       "    }\n",
       "\n",
       "    .dataframe tbody tr th {\n",
       "        vertical-align: top;\n",
       "    }\n",
       "\n",
       "    .dataframe thead th {\n",
       "        text-align: right;\n",
       "    }\n",
       "</style>\n",
       "<table border=\"1\" class=\"dataframe\">\n",
       "  <thead>\n",
       "    <tr style=\"text-align: right;\">\n",
       "      <th></th>\n",
       "      <th>datetime</th>\n",
       "      <th>temperature</th>\n",
       "    </tr>\n",
       "  </thead>\n",
       "  <tbody>\n",
       "    <tr>\n",
       "      <th>0</th>\n",
       "      <td>2012-10-01 12:00:00</td>\n",
       "      <td>NaN</td>\n",
       "    </tr>\n",
       "    <tr>\n",
       "      <th>1</th>\n",
       "      <td>2012-10-01 13:00:00</td>\n",
       "      <td>285.830000</td>\n",
       "    </tr>\n",
       "    <tr>\n",
       "      <th>2</th>\n",
       "      <td>2012-10-01 14:00:00</td>\n",
       "      <td>285.834650</td>\n",
       "    </tr>\n",
       "    <tr>\n",
       "      <th>3</th>\n",
       "      <td>2012-10-01 15:00:00</td>\n",
       "      <td>285.847790</td>\n",
       "    </tr>\n",
       "    <tr>\n",
       "      <th>4</th>\n",
       "      <td>2012-10-01 16:00:00</td>\n",
       "      <td>285.860929</td>\n",
       "    </tr>\n",
       "  </tbody>\n",
       "</table>\n",
       "</div>"
      ],
      "text/plain": [
       "              datetime  temperature\n",
       "0  2012-10-01 12:00:00          NaN\n",
       "1  2012-10-01 13:00:00   285.830000\n",
       "2  2012-10-01 14:00:00   285.834650\n",
       "3  2012-10-01 15:00:00   285.847790\n",
       "4  2012-10-01 16:00:00   285.860929"
      ]
     },
     "execution_count": 37,
     "metadata": {},
     "output_type": "execute_result"
    }
   ],
   "source": [
    "data=data.rename(columns={'Montreal':'temperature'})\n",
    "data.head(5)"
   ]
  },
  {
   "cell_type": "code",
   "execution_count": 38,
   "metadata": {},
   "outputs": [
    {
     "data": {
      "text/plain": [
       "count    45250.000000\n",
       "mean       280.343010\n",
       "std         11.953626\n",
       "min        243.300000\n",
       "25%        271.971750\n",
       "50%        281.109000\n",
       "75%        290.369583\n",
       "max        307.880000\n",
       "Name: temperature, dtype: float64"
      ]
     },
     "execution_count": 38,
     "metadata": {},
     "output_type": "execute_result"
    }
   ],
   "source": [
    "data[\"temperature\"].describe()\n"
   ]
  },
  {
   "cell_type": "code",
   "execution_count": 39,
   "metadata": {},
   "outputs": [],
   "source": [
    "data[\"temperature\"]=data[\"temperature\"] - 273.15\n",
    "\n"
   ]
  },
  {
   "cell_type": "code",
   "execution_count": 40,
   "metadata": {},
   "outputs": [
    {
     "data": {
      "text/html": [
       "<div>\n",
       "<style scoped>\n",
       "    .dataframe tbody tr th:only-of-type {\n",
       "        vertical-align: middle;\n",
       "    }\n",
       "\n",
       "    .dataframe tbody tr th {\n",
       "        vertical-align: top;\n",
       "    }\n",
       "\n",
       "    .dataframe thead th {\n",
       "        text-align: right;\n",
       "    }\n",
       "</style>\n",
       "<table border=\"1\" class=\"dataframe\">\n",
       "  <thead>\n",
       "    <tr style=\"text-align: right;\">\n",
       "      <th></th>\n",
       "      <th>datetime</th>\n",
       "      <th>temperature</th>\n",
       "    </tr>\n",
       "  </thead>\n",
       "  <tbody>\n",
       "    <tr>\n",
       "      <th>0</th>\n",
       "      <td>2012-10-01 12:00:00</td>\n",
       "      <td>NaN</td>\n",
       "    </tr>\n",
       "    <tr>\n",
       "      <th>1</th>\n",
       "      <td>2012-10-01 13:00:00</td>\n",
       "      <td>12.680000</td>\n",
       "    </tr>\n",
       "    <tr>\n",
       "      <th>2</th>\n",
       "      <td>2012-10-01 14:00:00</td>\n",
       "      <td>12.684650</td>\n",
       "    </tr>\n",
       "    <tr>\n",
       "      <th>3</th>\n",
       "      <td>2012-10-01 15:00:00</td>\n",
       "      <td>12.697790</td>\n",
       "    </tr>\n",
       "    <tr>\n",
       "      <th>4</th>\n",
       "      <td>2012-10-01 16:00:00</td>\n",
       "      <td>12.710929</td>\n",
       "    </tr>\n",
       "  </tbody>\n",
       "</table>\n",
       "</div>"
      ],
      "text/plain": [
       "              datetime  temperature\n",
       "0  2012-10-01 12:00:00          NaN\n",
       "1  2012-10-01 13:00:00    12.680000\n",
       "2  2012-10-01 14:00:00    12.684650\n",
       "3  2012-10-01 15:00:00    12.697790\n",
       "4  2012-10-01 16:00:00    12.710929"
      ]
     },
     "execution_count": 40,
     "metadata": {},
     "output_type": "execute_result"
    }
   ],
   "source": [
    "data.head(5)"
   ]
  },
  {
   "cell_type": "markdown",
   "metadata": {},
   "source": [
    "we havesome missing value. Temperature tend to be constant from one hour to the next, so we can use backfill to replace any missing values and drop he rest."
   ]
  },
  {
   "cell_type": "code",
   "execution_count": 41,
   "metadata": {},
   "outputs": [],
   "source": [
    "data = data.fillna(method = 'bfill', axis=0).dropna()"
   ]
  },
  {
   "cell_type": "code",
   "execution_count": 43,
   "metadata": {},
   "outputs": [
    {
     "data": {
      "text/html": [
       "<div>\n",
       "<style scoped>\n",
       "    .dataframe tbody tr th:only-of-type {\n",
       "        vertical-align: middle;\n",
       "    }\n",
       "\n",
       "    .dataframe tbody tr th {\n",
       "        vertical-align: top;\n",
       "    }\n",
       "\n",
       "    .dataframe thead th {\n",
       "        text-align: right;\n",
       "    }\n",
       "</style>\n",
       "<table border=\"1\" class=\"dataframe\">\n",
       "  <thead>\n",
       "    <tr style=\"text-align: right;\">\n",
       "      <th></th>\n",
       "      <th>datetime</th>\n",
       "      <th>temperature</th>\n",
       "    </tr>\n",
       "  </thead>\n",
       "  <tbody>\n",
       "    <tr>\n",
       "      <th>0</th>\n",
       "      <td>2012-10-01 12:00:00</td>\n",
       "      <td>12.680000</td>\n",
       "    </tr>\n",
       "    <tr>\n",
       "      <th>1</th>\n",
       "      <td>2012-10-01 13:00:00</td>\n",
       "      <td>12.680000</td>\n",
       "    </tr>\n",
       "    <tr>\n",
       "      <th>2</th>\n",
       "      <td>2012-10-01 14:00:00</td>\n",
       "      <td>12.684650</td>\n",
       "    </tr>\n",
       "    <tr>\n",
       "      <th>3</th>\n",
       "      <td>2012-10-01 15:00:00</td>\n",
       "      <td>12.697790</td>\n",
       "    </tr>\n",
       "    <tr>\n",
       "      <th>4</th>\n",
       "      <td>2012-10-01 16:00:00</td>\n",
       "      <td>12.710929</td>\n",
       "    </tr>\n",
       "  </tbody>\n",
       "</table>\n",
       "</div>"
      ],
      "text/plain": [
       "              datetime  temperature\n",
       "0  2012-10-01 12:00:00    12.680000\n",
       "1  2012-10-01 13:00:00    12.680000\n",
       "2  2012-10-01 14:00:00    12.684650\n",
       "3  2012-10-01 15:00:00    12.697790\n",
       "4  2012-10-01 16:00:00    12.710929"
      ]
     },
     "execution_count": 43,
     "metadata": {},
     "output_type": "execute_result"
    }
   ],
   "source": [
    "data.head(5)"
   ]
  },
  {
   "cell_type": "markdown",
   "metadata": {},
   "source": [
    "There is no missing value and there is no outlayer so our daa looks good."
   ]
  },
  {
   "cell_type": "code",
   "execution_count": 46,
   "metadata": {},
   "outputs": [
    {
     "name": "stdout",
     "output_type": "stream",
     "text": [
      "count    45253.000000\n",
      "mean         7.192744\n",
      "std         11.953399\n",
      "min        -29.850000\n",
      "25%         -1.180000\n",
      "50%          7.959000\n",
      "75%         17.218333\n",
      "max         34.730000\n",
      "Name: temperature, dtype: float64\n"
     ]
    },
    {
     "data": {
      "image/png": "[encoded data removed]",
      "text/plain": [
       "<matplotlib.figure.Figure at 0x2845ab48828>"
      ]
     },
     "metadata": {},
     "output_type": "display_data"
    }
   ],
   "source": [
    "print(data.temperature.describe())\n",
    "plot = sns.distplot(data.temperature)"
   ]
  },
  {
   "cell_type": "code",
   "execution_count": null,
   "metadata": {},
   "outputs": [],
   "source": []
  }
 ],
 "metadata": {
  "kernelspec": {
   "display_name": "Python 3",
   "language": "python",
   "name": "python3"
  },
  "language_info": {
   "codemirror_mode": {
    "name": "ipython",
    "version": 3
   },
   "file_extension": ".py",
   "mimetype": "text/x-python",
   "name": "python",
   "nbconvert_exporter": "python",
   "pygments_lexer": "ipython3",
   "version": "3.6.4"
  }
 },
 "nbformat": 4,
 "nbformat_minor": 2
}
